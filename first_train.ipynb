{
  "nbformat": 4,
  "nbformat_minor": 0,
  "metadata": {
    "colab": {
      "name": "train_first.ipynb",
      "provenance": [],
      "collapsed_sections": []
    },
    "kernelspec": {
      "name": "python3",
      "display_name": "Python 3"
    },
    "accelerator": "GPU"
  },
  "cells": [
    {
      "cell_type": "markdown",
      "metadata": {
        "id": "sUV2gfvw8Z2_",
        "colab_type": "text"
      },
      "source": [
        "#Mount to drive"
      ]
    },
    {
      "cell_type": "code",
      "metadata": {
        "id": "XbObX-xk8YUw",
        "colab_type": "code",
        "colab": {}
      },
      "source": [
        "from google.colab import drive\n",
        "drive.mount('/content/drive')"
      ],
      "execution_count": 0,
      "outputs": []
    },
    {
      "cell_type": "markdown",
      "metadata": {
        "id": "_Zr0roOf8ldB",
        "colab_type": "text"
      },
      "source": [
        "#Get Deepspeech model and install library"
      ]
    },
    {
      "cell_type": "code",
      "metadata": {
        "id": "9ZCrmXl98kvD",
        "colab_type": "code",
        "colab": {}
      },
      "source": [
        "!wget https://github.com/mozilla/DeepSpeech/archive/v0.6.1.tar.gz"
      ],
      "execution_count": 0,
      "outputs": []
    },
    {
      "cell_type": "code",
      "metadata": {
        "id": "a9LhN_ms_VSy",
        "colab_type": "code",
        "colab": {}
      },
      "source": [
        "!tar xvzf v0.6.1.tar.gz"
      ],
      "execution_count": 0,
      "outputs": []
    },
    {
      "cell_type": "code",
      "metadata": {
        "id": "VaD65EW180Uk",
        "colab_type": "code",
        "colab": {}
      },
      "source": [
        "cd DeepSpeech-0.6.1"
      ],
      "execution_count": 0,
      "outputs": []
    },
    {
      "cell_type": "code",
      "metadata": {
        "id": "C3WoQFLY82_r",
        "colab_type": "code",
        "colab": {}
      },
      "source": [
        "!pip uninstall tensorflow\n",
        "!pip install 'tensorflow-gpu==1.15.0'\n",
        "!apt-get install sox\n",
        "!apt-get install libsox-fmt-mp3\n",
        "!sudo apt-get install sox\n",
        "!pip3 install -r requirements.txt\n",
        "!pip3 install $(python3 util/taskcluster.py --decoder)"
      ],
      "execution_count": 0,
      "outputs": []
    },
    {
      "cell_type": "markdown",
      "metadata": {
        "id": "THA-3_1S9HSX",
        "colab_type": "text"
      },
      "source": [
        "#Create folder clips"
      ]
    },
    {
      "cell_type": "code",
      "metadata": {
        "id": "0GTbnrOZ9E0g",
        "colab_type": "code",
        "colab": {}
      },
      "source": [
        "!mkdir clips"
      ],
      "execution_count": 0,
      "outputs": []
    },
    {
      "cell_type": "code",
      "metadata": {
        "id": "VrHbP82M-NMx",
        "colab_type": "code",
        "colab": {}
      },
      "source": [
        "cd clips"
      ],
      "execution_count": 0,
      "outputs": []
    },
    {
      "cell_type": "markdown",
      "metadata": {
        "id": "tjr-OBEi9pgE",
        "colab_type": "text"
      },
      "source": [
        "\n",
        "# import another lib and connect to drive with download by google id"
      ]
    },
    {
      "cell_type": "code",
      "metadata": {
        "id": "dN9SD9PA9hdC",
        "colab_type": "code",
        "colab": {}
      },
      "source": [
        "from scipy.io import wavfile\n",
        "from zipfile import ZipFile\n",
        "import numpy as np\n",
        "import os.path\n",
        "import codecs\n",
        "import json\n",
        "import io\n",
        "import os\n",
        "\n",
        "!pip install -U -q PyDrive\n",
        "from pydrive.auth import GoogleAuth\n",
        "from pydrive.drive import GoogleDrive\n",
        "from google.colab import auth\n",
        "from oauth2client.client import GoogleCredentials\n",
        "\n",
        "# 1. Authenticate and create the PyDrive client.\n",
        "auth.authenticate_user()\n",
        "gauth = GoogleAuth()\n",
        "gauth.credentials = GoogleCredentials.get_application_default()\n",
        "drive = GoogleDrive(gauth)\n",
        "\n",
        "def upload_file (folder_id, file_name):\n",
        "    file_metadata = {'title': file_name, \"parents\": [{\"id\": folder_id, \"kind\": \"drive#childList\"}]}\n",
        "    folder = drive.CreateFile(file_metadata)\n",
        "    folder.SetContentFile(file_name) #The contents of the file\n",
        "    folder.Upload()\n",
        "    \n",
        "def download_drive(partname,id_drive):\n",
        "  auth.authenticate_user()\n",
        "  gauth = GoogleAuth()\n",
        "  gauth.credentials = GoogleCredentials.get_application_default()\n",
        "  drive = GoogleDrive(gauth)\n",
        "  downloaded = drive.CreateFile({'id':id_drive}) # replace the id with id of file you want to access\n",
        "  downloaded.GetContentFile(partname)"
      ],
      "execution_count": 0,
      "outputs": []
    },
    {
      "cell_type": "markdown",
      "metadata": {
        "id": "vCR4Kh2n-Vbw",
        "colab_type": "text"
      },
      "source": [
        "#Download dataset"
      ]
    },
    {
      "cell_type": "code",
      "metadata": {
        "id": "Uh8193cP96cW",
        "colab_type": "code",
        "colab": {}
      },
      "source": [
        "download_drive('first_dataset.zip','1OhBz90O8pGVVaEHFRSjFZ037cBFOTnhX')\n",
        "!unzip first_dataset.zip"
      ],
      "execution_count": 0,
      "outputs": []
    },
    {
      "cell_type": "markdown",
      "metadata": {
        "id": "sQ09oVIy-1ms",
        "colab_type": "text"
      },
      "source": [
        "#Got to main dir and trian"
      ]
    },
    {
      "cell_type": "code",
      "metadata": {
        "id": "S5stE6JH-zi3",
        "colab_type": "code",
        "colab": {}
      },
      "source": [
        "cd ../"
      ],
      "execution_count": 0,
      "outputs": []
    },
    {
      "cell_type": "markdown",
      "metadata": {
        "id": "mdgxzIFC8OMM",
        "colab_type": "text"
      },
      "source": [
        "#check GPU IS ON"
      ]
    },
    {
      "cell_type": "code",
      "metadata": {
        "id": "SGhPlS9a8EWC",
        "colab_type": "code",
        "colab": {}
      },
      "source": [
        "from tensorflow.python.client import device_lib\n",
        "device_lib.list_local_devices()"
      ],
      "execution_count": 0,
      "outputs": []
    },
    {
      "cell_type": "code",
      "metadata": {
        "id": "f0bu2w67B01T",
        "colab_type": "code",
        "colab": {}
      },
      "source": [
        "!pip install 'tensorflow-gpu==1.14.0'"
      ],
      "execution_count": 0,
      "outputs": []
    },
    {
      "cell_type": "code",
      "metadata": {
        "id": "9WzW0uJHCQJZ",
        "colab_type": "code",
        "colab": {}
      },
      "source": [
        "cd DeepSpeech-0.6.1"
      ],
      "execution_count": 0,
      "outputs": []
    },
    {
      "cell_type": "code",
      "metadata": {
        "id": "PMpXCSDE-Sl2",
        "colab_type": "code",
        "colab": {}
      },
      "source": [
        "!python -u DeepSpeech.py  --checkpoint_dir /content/drive/My\\ Drive/work/mycheckpoint --export_dir /content/drive/My\\ Drive/work/mymodel   --dropout_rate 0.30 --learning_rate 0.0001   --train_files clips/normal/normal_train.csv   --train_batch_size 1  --n_hidden 2048 --epochs 3 "
      ],
      "execution_count": 0,
      "outputs": []
    }
  ]
}